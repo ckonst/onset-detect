{
 "cells": [
  {
   "cell_type": "code",
   "execution_count": 1,
   "metadata": {},
   "outputs": [],
   "source": [
    "import numpy as np\n",
    "from scipy.io import wavfile as wf\n",
    "from scipy import signal\n",
    "import matplotlib.pyplot as plt"
   ]
  },
  {
   "cell_type": "code",
   "execution_count": 2,
   "metadata": {},
   "outputs": [
    {
     "name": "stderr",
     "output_type": "stream",
     "text": [
      "C:\\Users\\Christian\\anaconda3\\lib\\site-packages\\ipykernel_launcher.py:1: WavFileWarning: Chunk (non-data) not understood, skipping it.\n",
      "  \"\"\"Entry point for launching an IPython kernel.\n"
     ]
    }
   ],
   "source": [
    "fs, input_sig = wf.read('pop_shuffle.wav')"
   ]
  },
  {
   "cell_type": "code",
   "execution_count": 3,
   "metadata": {},
   "outputs": [
    {
     "name": "stdout",
     "output_type": "stream",
     "text": [
      "44100 218484\n"
     ]
    }
   ],
   "source": [
    "print(fs, input_sig.size)"
   ]
  },
  {
   "cell_type": "code",
   "execution_count": 4,
   "metadata": {},
   "outputs": [],
   "source": [
    "# normalize\n",
    "data = input_sig / np.max(np.abs(input_sig))"
   ]
  },
  {
   "cell_type": "code",
   "execution_count": 5,
   "metadata": {},
   "outputs": [],
   "source": [
    "# finite impulse response\n",
    "fir = np.array([-1, 0, 1])\n",
    "fir2 = np.array([1, 0, -1])"
   ]
  },
  {
   "cell_type": "code",
   "execution_count": 6,
   "metadata": {},
   "outputs": [],
   "source": [
    "# apply pre-emphasis filter\n",
    "data = signal.oaconvolve(data, fir)\n",
    "data = signal.oaconvolve(data, fir2) "
   ]
  },
  {
   "cell_type": "code",
   "execution_count": 7,
   "metadata": {},
   "outputs": [],
   "source": [
    "b, a = signal.butter(3, 8000/(fs*0.5))\n",
    "data = signal.lfilter(b, a, data)"
   ]
  },
  {
   "cell_type": "code",
   "execution_count": 8,
   "metadata": {},
   "outputs": [],
   "source": [
    "# onset detection function \n",
    "# (input --> pre-emphasis --> low pass filter --> half wave rectification --> normalization)\n",
    "odf = (data + np.abs(data)) * 0.5\n",
    "# normalize\n",
    "odf /= np.max(np.abs(odf))"
   ]
  },
  {
   "cell_type": "code",
   "execution_count": 9,
   "metadata": {},
   "outputs": [
    {
     "data": {
      "text/plain": [
       "array([   499,  14737,  28418,  41995,  55267,  62707,  68739,  81761,\n",
       "        95661, 109174, 123362, 136927, 151275, 164906, 172145, 178249,\n",
       "       186120, 191787, 206010], dtype=int64)"
      ]
     },
     "execution_count": 9,
     "metadata": {},
     "output_type": "execute_result"
    }
   ],
   "source": [
    "interval = 0.1 * fs\n",
    "threshold = 0.2\n",
    "onsets, _ = signal.find_peaks(odf, height=threshold, distance=interval)\n",
    "#onsets, _ = signal.find_peaks(odf, threshold=threshold)\n",
    "onsets"
   ]
  },
  {
   "cell_type": "code",
   "execution_count": 1411,
   "metadata": {},
   "outputs": [
    {
     "name": "stderr",
     "output_type": "stream",
     "text": [
      "__main__:13: UserWarning: Matplotlib is currently using module://ipykernel.pylab.backend_inline, which is a non-GUI backend, so cannot show the figure.\n"
     ]
    },
    {
     "data": {
      "image/png": "[encoded data removed]",
      "text/plain": [
       "<Figure size 432x288 with 3 Axes>"
      ]
     },
     "metadata": {},
     "output_type": "display_data"
    }
   ],
   "source": [
    "fig, (sig, onset_function, onset_vector) = plt.subplots(3, 1)\n",
    "\n",
    "sig.plot(input_sig)\n",
    "sig.set_title('Input Signal')\n",
    "sig.set_xlim([0, odf.size])\n",
    "onset_function.plot(odf, color='green')\n",
    "onset_function.set_title('Onset Detection Function')\n",
    "onset_function.set_xlim([0, odf.size])\n",
    "onset_vector.vlines(onsets, 0, odf.max())\n",
    "onset_vector.set_title('Onsets')\n",
    "onset_vector.set_xlim([0, odf.size])\n",
    "fig.tight_layout()\n",
    "fig.show()"
   ]
  },
  {
   "cell_type": "code",
   "execution_count": 10,
   "metadata": {},
   "outputs": [
    {
     "name": "stderr",
     "output_type": "stream",
     "text": [
      "C:\\Users\\Christian\\anaconda3\\lib\\site-packages\\ipykernel_launcher.py:2: WavFileWarning: Chunk (non-data) not understood, skipping it.\n",
      "  \n"
     ]
    }
   ],
   "source": [
    "# now lets make a click track to hear the detected onsets with the input\n",
    "fs2, click = wf.read('click.wav')"
   ]
  },
  {
   "cell_type": "code",
   "execution_count": 11,
   "metadata": {},
   "outputs": [
    {
     "data": {
      "text/plain": [
       "8087"
      ]
     },
     "execution_count": 11,
     "metadata": {},
     "output_type": "execute_result"
    }
   ],
   "source": [
    "# resample to match the output\n",
    "if fs2 != fs:\n",
    "    signal.resample(click, fs)\n",
    "    fs2 = fs\n",
    "click[:, 0].size"
   ]
  },
  {
   "cell_type": "code",
   "execution_count": 12,
   "metadata": {},
   "outputs": [],
   "source": [
    "# make the input a bit quieter to better hear the click\n",
    "output_sig = input_sig * 0.67"
   ]
  },
  {
   "cell_type": "code",
   "execution_count": 13,
   "metadata": {},
   "outputs": [],
   "source": [
    "for o in onsets:\n",
    "    output_sig[o:o+click[:, 0].size] += click[:output_sig.size-o, 0] * 0.25"
   ]
  },
  {
   "cell_type": "code",
   "execution_count": 14,
   "metadata": {},
   "outputs": [],
   "source": [
    "wf.write('onset_output.wav', fs, output_sig)"
   ]
  }
 ],
 "metadata": {
  "kernelspec": {
   "display_name": "Python 3",
   "language": "python",
   "name": "python3"
  },
  "language_info": {
   "codemirror_mode": {
    "name": "ipython",
    "version": 3
   },
   "file_extension": ".py",
   "mimetype": "text/x-python",
   "name": "python",
   "nbconvert_exporter": "python",
   "pygments_lexer": "ipython3",
   "version": "3.7.9"
  }
 },
 "nbformat": 4,
 "nbformat_minor": 4
}
