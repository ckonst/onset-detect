{
 "cells": [
  {
   "cell_type": "code",
   "execution_count": 1,
   "metadata": {},
   "outputs": [],
   "source": [
    "import numpy as np\n",
    "from scipy.io import wavfile as wf\n",
    "from scipy import signal\n",
    "import matplotlib.pyplot as plt"
   ]
  },
  {
   "cell_type": "code",
   "execution_count": 2,
   "metadata": {},
   "outputs": [
    {
     "name": "stderr",
     "output_type": "stream",
     "text": [
      "<ipython-input-2-cd83c5741d2c>:1: WavFileWarning: Chunk (non-data) not understood, skipping it.\n",
      "  fs, input_sig = wf.read('../audio/pop_shuffle.wav')\n"
     ]
    },
    {
     "data": {
      "text/plain": [
       "44100"
      ]
     },
     "execution_count": 2,
     "metadata": {},
     "output_type": "execute_result"
    }
   ],
   "source": [
    "fs, input_sig = wf.read('../audio/pop_shuffle.wav')\n",
    "fs"
   ]
  },
  {
   "cell_type": "code",
   "execution_count": 3,
   "metadata": {},
   "outputs": [
    {
     "name": "stdout",
     "output_type": "stream",
     "text": [
      "44100 218484\n"
     ]
    }
   ],
   "source": [
    "print(fs, input_sig.size)"
   ]
  },
  {
   "cell_type": "markdown",
   "metadata": {},
   "source": [
    "##### We will cascade two pre emphasis filters"
   ]
  },
  {
   "cell_type": "code",
   "execution_count": 4,
   "metadata": {},
   "outputs": [],
   "source": [
    "fir = np.array([-0.97, 0, 1])\n",
    "fir2 = np.array([1, 0, -0.97])"
   ]
  },
  {
   "cell_type": "code",
   "execution_count": 5,
   "metadata": {},
   "outputs": [],
   "source": [
    "# apply pre-emphasis filter\n",
    "data = signal.oaconvolve(input_sig, fir)\n",
    "data = signal.oaconvolve(data, fir2) "
   ]
  },
  {
   "cell_type": "code",
   "execution_count": 6,
   "metadata": {},
   "outputs": [],
   "source": [
    "b, a = signal.butter(3, 8000/(fs*0.5))\n",
    "data = signal.lfilter(b, a, data)"
   ]
  },
  {
   "cell_type": "markdown",
   "metadata": {},
   "source": [
    "##### onset detection function \n",
    "##### (input --> pre-emphasis --> low pass filter --> half wave rectification --> normalization)"
   ]
  },
  {
   "cell_type": "code",
   "execution_count": 7,
   "metadata": {},
   "outputs": [],
   "source": [
    "odf = (data + np.abs(data)) * 0.5\n",
    "# normalize\n",
    "odf /= np.max(np.abs(odf))"
   ]
  },
  {
   "cell_type": "code",
   "execution_count": 8,
   "metadata": {},
   "outputs": [
    {
     "data": {
      "text/plain": [
       "array([   499,  14737,  28418,  41995,  55267,  62707,  68739,  81761,\n",
       "        95661, 109174, 123362, 136927, 151275, 164906, 172145, 178249,\n",
       "       186120, 191787, 206010], dtype=int64)"
      ]
     },
     "execution_count": 8,
     "metadata": {},
     "output_type": "execute_result"
    }
   ],
   "source": [
    "interval = 0.1 * fs\n",
    "threshold = 0.2\n",
    "onsets, _ = signal.find_peaks(odf, height=threshold, distance=interval)\n",
    "#onsets, _ = signal.find_peaks(odf, threshold=threshold)\n",
    "onsets"
   ]
  },
  {
   "cell_type": "code",
   "execution_count": 9,
   "metadata": {},
   "outputs": [
    {
     "name": "stderr",
     "output_type": "stream",
     "text": [
      "<ipython-input-9-4230af69a594>:13: UserWarning: Matplotlib is currently using module://ipykernel.pylab.backend_inline, which is a non-GUI backend, so cannot show the figure.\n",
      "  fig.show()\n"
     ]
    },
    {
     "data": {
      "image/png": "[encoded data removed]",
      "text/plain": [
       "<Figure size 432x288 with 3 Axes>"
      ]
     },
     "metadata": {
      "needs_background": "light"
     },
     "output_type": "display_data"
    }
   ],
   "source": [
    "fig, (sig, onset_function, onset_vector) = plt.subplots(3, 1)\n",
    "\n",
    "sig.plot(input_sig)\n",
    "sig.set_title('Input Signal')\n",
    "sig.set_xlim([0, odf.size])\n",
    "onset_function.plot(odf, color='green')\n",
    "onset_function.set_title('Onset Detection Function')\n",
    "onset_function.set_xlim([0, odf.size])\n",
    "onset_vector.vlines(onsets, 0, odf.max())\n",
    "onset_vector.set_title('Onsets')\n",
    "onset_vector.set_xlim([0, odf.size])\n",
    "fig.tight_layout()\n",
    "fig.show()"
   ]
  },
  {
   "cell_type": "markdown",
   "metadata": {},
   "source": [
    "##### now lets make a click track to hear the detected onsets with the input"
   ]
  },
  {
   "cell_type": "code",
   "execution_count": 10,
   "metadata": {},
   "outputs": [
    {
     "name": "stderr",
     "output_type": "stream",
     "text": [
      "<ipython-input-10-d8882a57db8b>:1: WavFileWarning: Chunk (non-data) not understood, skipping it.\n",
      "  fs2, click = wf.read('../audio/click.wav')\n"
     ]
    },
    {
     "data": {
      "text/plain": [
       "22050"
      ]
     },
     "execution_count": 10,
     "metadata": {},
     "output_type": "execute_result"
    }
   ],
   "source": [
    "fs2, click = wf.read('../audio/click.wav')\n",
    "fs2"
   ]
  },
  {
   "cell_type": "markdown",
   "metadata": {},
   "source": [
    "##### resample to match the output"
   ]
  },
  {
   "cell_type": "code",
   "execution_count": 11,
   "metadata": {},
   "outputs": [
    {
     "data": {
      "text/plain": [
       "8087"
      ]
     },
     "execution_count": 11,
     "metadata": {},
     "output_type": "execute_result"
    }
   ],
   "source": [
    "if fs2 != fs:\n",
    "    signal.resample(click, fs)\n",
    "    fs2 = fs\n",
    "click[:, 0].size"
   ]
  },
  {
   "cell_type": "markdown",
   "metadata": {},
   "source": [
    "##### make the input a bit quieter to better hear the click"
   ]
  },
  {
   "cell_type": "code",
   "execution_count": 12,
   "metadata": {},
   "outputs": [],
   "source": [
    "output_sig = input_sig * 0.67"
   ]
  },
  {
   "cell_type": "code",
   "execution_count": 13,
   "metadata": {},
   "outputs": [],
   "source": [
    "click_track = np.zeros(output_sig.size)"
   ]
  },
  {
   "cell_type": "code",
   "execution_count": 14,
   "metadata": {},
   "outputs": [],
   "source": [
    "onset_array = np.zeros(output_sig.size)"
   ]
  },
  {
   "cell_type": "code",
   "execution_count": 15,
   "metadata": {},
   "outputs": [],
   "source": [
    "for o in onsets:\n",
    "    output_sig [o:o+click[:, 0].size] += click[:output_sig.size-o , 0] * 0.25\n",
    "    click_track[o:o+click[:, 0].size] += click[:click_track.size-o, 0] * 0.50\n",
    "    onset_array[o] += 1"
   ]
  },
  {
   "cell_type": "code",
   "execution_count": 16,
   "metadata": {},
   "outputs": [],
   "source": [
    "wf.write('../audio/onset_output.wav', fs, output_sig)\n",
    "wf.write('../audio/click_track.wav', fs, click_track)"
   ]
  },
  {
   "cell_type": "code",
   "execution_count": 17,
   "metadata": {},
   "outputs": [],
   "source": [
    "np.save('../test/onsets.npy', onset_array)"
   ]
  }
 ],
 "metadata": {
  "interpreter": {
   "hash": "c9cc499ad3448e20bc86af81d0e48cdb3d5a4aa23636d581623534d6938c4e52"
  },
  "kernelspec": {
   "display_name": "Python 3.8.10 ('ml')",
   "language": "python",
   "name": "python3"
  },
  "language_info": {
   "codemirror_mode": {
    "name": "ipython",
    "version": 3
   },
   "file_extension": ".py",
   "mimetype": "text/x-python",
   "name": "python",
   "nbconvert_exporter": "python",
   "pygments_lexer": "ipython3",
   "version": "3.8.10"
  }
 },
 "nbformat": 4,
 "nbformat_minor": 4
}
